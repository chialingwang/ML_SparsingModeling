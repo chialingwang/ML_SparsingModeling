{
 "cells": [
  {
   "cell_type": "code",
   "execution_count": 24,
   "metadata": {
    "collapsed": false
   },
   "outputs": [
    {
     "name": "stdout",
     "output_type": "stream",
     "text": [
      "..\\curetgrey\\sample01\\01-002.png\n"
     ]
    },
    {
     "data": {
      "text/plain": [
       "'\\nfor i in range(1,5):     \\n\\timg_filename = r\"%s\\\\sample0%d\\x00%d-002.png\" % (scriptDir , i  , i)\\n\\tprint (img_filename);\\n\\tim = Image.open(img_filename)\\n\\tprint (im.size);\\n\\tim.show();\\n'"
      ]
     },
     "execution_count": 24,
     "metadata": {},
     "output_type": "execute_result"
    }
   ],
   "source": [
    "import os, sys\n",
    "import os.path\n",
    "     \n",
    "from PIL import Image\n",
    "\n",
    "#pwd = os.abspath(os.pardir);\n",
    "pwd = os.pardir;\n",
    "scriptDir = r\"%s\\curetgrey\" %pwd;   \n",
    "filelist = []\n",
    "pitch_size = 3\n",
    "\n",
    "#im = Image.open(r\"C:\\Users\\howfungirl\\ML_Project\\curetgrey\\sample01\\01-002.png\")\n",
    "#im.show();\n",
    "\n",
    "for i in range(1,3):  \n",
    "    sample_file = r\"%s\\sample0%d\" % (scriptDir , i);\n",
    "    f = open('sample0%d_%dx%d' % (i , pitch_size , pitch_size) , 'w')\n",
    "    for file in os.listdir(sample_file):\n",
    "        if file.endswith(\".png\"):\n",
    "            final = sample_file+\"\\\\\"+file;\n",
    "#            print (final);\n",
    "            filelist.append(final);\n",
    "            f.write(final+\"\\n\");\n",
    "    f.close();       \n",
    "\n",
    "print(filelist[0]);\n",
    "\n",
    "\n",
    "'''\n",
    "for i in range(1,5):     \n",
    "\timg_filename = r\"%s\\sample0%d\\0%d-002.png\" % (scriptDir , i  , i)\n",
    "\tprint (img_filename);\n",
    "\tim = Image.open(img_filename)\n",
    "\tprint (im.size);\n",
    "\tim.show();\n",
    "'''"
   ]
  },
  {
   "cell_type": "code",
   "execution_count": null,
   "metadata": {
    "collapsed": true
   },
   "outputs": [],
   "source": []
  }
 ],
 "metadata": {
  "kernelspec": {
   "display_name": "Python 3",
   "language": "python",
   "name": "python3"
  },
  "language_info": {
   "codemirror_mode": {
    "name": "ipython",
    "version": 3
   },
   "file_extension": ".py",
   "mimetype": "text/x-python",
   "name": "python",
   "nbconvert_exporter": "python",
   "pygments_lexer": "ipython3",
   "version": "3.4.3"
  }
 },
 "nbformat": 4,
 "nbformat_minor": 0
}
