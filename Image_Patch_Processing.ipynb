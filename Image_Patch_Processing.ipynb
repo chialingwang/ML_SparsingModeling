{
 "cells": [
  {
   "cell_type": "markdown",
   "metadata": {},
   "source": [
    "# Data Preparation #"
   ]
  },
  {
   "cell_type": "markdown",
   "metadata": {},
   "source": [
    "Create patch array for each image"
   ]
  },
  {
   "cell_type": "code",
   "execution_count": 24,
   "metadata": {
    "collapsed": false,
    "scrolled": true
   },
   "outputs": [
    {
     "data": {
      "text/plain": [
       "'\\nfor i in range(1,5):     \\n\\timg_filename = r\"%s\\\\sample0%d\\x00%d-002.png\" % (scriptDir , i  , i)\\n\\tprint (img_filename);\\n\\tim = Image.open(img_filename)\\n\\tprint (im.size);\\n\\tim.show();\\n'"
      ]
     },
     "execution_count": 24,
     "metadata": {},
     "output_type": "execute_result"
    }
   ],
   "source": [
    "import os, sys\n",
    "import os.path\n",
    "     \n",
    "from PIL import Image\n",
    "import image_patch\n",
    "\n",
    "#pwd = os.abspath(os.pardir);\n",
    "pwd = os.pardir;\n",
    "scriptDir = r\"%s\\curetgrey\" %pwd;   \n",
    "filelist = []\n",
    "pitch_size = 3\n",
    "\n",
    "#im = Image.open(r\"C:\\Users\\howfungirl\\ML_Project\\curetgrey\\sample01\\01-002.png\")\n",
    "#im.show();\n",
    "\n",
    "save_path = r\"%s\\patch_database\" %pwd;\n",
    "#print '%(language)s has %(number)03d quote types' %  (\"language\": \"Python\", \"number\": 2)\n",
    "#print 'Formatted String : {0:05d}'.format(12)\n",
    "for i in range(10,62):  \n",
    "\n",
    "    sample_file = r\"%s\\sample%02d\" % (scriptDir , i);\n",
    "    for file in os.listdir(sample_file):\n",
    "        if file.endswith(\".png\"):\n",
    "            name_of_file = 'sample%02d_%s_%dx%d' % (i , file.strip(\".png\").replace(file[:3], '') , pitch_size , pitch_size) \n",
    "            completeName = os.path.join(save_path, name_of_file)      \n",
    "            f = open(completeName, 'wb+')\n",
    "            final = sample_file+\"\\\\\"+file;\n",
    "#            print (completeName);\n",
    "#            f.write(final+\"\\n\");\n",
    "            x = image_patch.ImagePatchProcessing(final , pitch_size)\n",
    "            filelist.append(final);\n",
    "            \n",
    "            \n",
    "#           for i in x :\n",
    "            tmp = bytes(x);\n",
    "            f.write(tmp);\n",
    "#           f.write(\"\\n\");\n",
    "            \n",
    "    f.close();       \n",
    "\n",
    "#print(image_patch.ImagePatchProcessing(r\"C:\\Users\\howfungirl\\ML_Project\\curetgrey\\sample01\\01-002.png\" , pitch_size))\n",
    "    \n",
    "'''\n",
    "for i in range(1,5):     \n",
    "\timg_filename = r\"%s\\sample0%d\\0%d-002.png\" % (scriptDir , i  , i)\n",
    "\tprint (img_filename);\n",
    "\tim = Image.open(img_filename)\n",
    "\tprint (im.size);\n",
    "\tim.show();\n",
    "'''"
   ]
  },
  {
   "cell_type": "markdown",
   "metadata": {},
   "source": [
    "Try to read out the data from file."
   ]
  },
  {
   "cell_type": "code",
   "execution_count": 55,
   "metadata": {
    "collapsed": false
   },
   "outputs": [
    {
     "name": "stdout",
     "output_type": "stream",
     "text": [
      "43\n"
     ]
    }
   ],
   "source": [
    "import os, sys\n",
    "import os.path\n",
    "     \n",
    "pwd = os.pardir;\n",
    "accessPath = r\"%s\\patch_database\" %pwd;\n",
    "\n",
    "patchSize = 3\n",
    "sample = 1\n",
    "image = 2\n",
    "\n",
    "\n",
    "f = open(r'%s\\sample%s_%s_%dx%d' %( accessPath ,str(sample).zfill(2) , str(image).zfill(3) , patchSize , patchSize), 'rb+')\n",
    "read_data = f.read();\n",
    "#for i in read_data:\n",
    "#    print(i);\n",
    "print(read_data[0]);    \n"
   ]
  }
 ],
 "metadata": {
  "kernelspec": {
   "display_name": "Python 3",
   "language": "python",
   "name": "python3"
  },
  "language_info": {
   "codemirror_mode": {
    "name": "ipython",
    "version": 3
   },
   "file_extension": ".py",
   "mimetype": "text/x-python",
   "name": "python",
   "nbconvert_exporter": "python",
   "pygments_lexer": "ipython3",
   "version": "3.4.3"
  }
 },
 "nbformat": 4,
 "nbformat_minor": 0
}
