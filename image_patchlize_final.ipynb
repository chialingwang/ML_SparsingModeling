{
 "cells": [
  {
   "cell_type": "code",
   "execution_count": 3,
   "metadata": {
    "collapsed": false
   },
   "outputs": [
    {
     "name": "stderr",
     "output_type": "stream",
     "text": [
      "C:\\Users\\howfungirl\\Anaconda3\\lib\\site-packages\\sklearn\\preprocessing\\data.py:583: DeprecationWarning: Passing 1d arrays as data is deprecated in 0.17 and will raise ValueError in 0.19. Reshape your data either using X.reshape(-1, 1) if your data has a single feature or X.reshape(1, -1) if it contains a single sample.\n",
      "  warnings.warn(DEPRECATION_MSG_1D, DeprecationWarning)\n",
      "C:\\Users\\howfungirl\\Anaconda3\\lib\\site-packages\\sklearn\\preprocessing\\data.py:646: DeprecationWarning: Passing 1d arrays as data is deprecated in 0.17 and will raise ValueError in 0.19. Reshape your data either using X.reshape(-1, 1) if your data has a single feature or X.reshape(1, -1) if it contains a single sample.\n",
      "  warnings.warn(DEPRECATION_MSG_1D, DeprecationWarning)\n",
      "C:\\Users\\howfungirl\\Anaconda3\\lib\\site-packages\\sklearn\\preprocessing\\data.py:583: DeprecationWarning: Passing 1d arrays as data is deprecated in 0.17 and will raise ValueError in 0.19. Reshape your data either using X.reshape(-1, 1) if your data has a single feature or X.reshape(1, -1) if it contains a single sample.\n",
      "  warnings.warn(DEPRECATION_MSG_1D, DeprecationWarning)\n"
     ]
    },
    {
     "name": "stdout",
     "output_type": "stream",
     "text": [
      "[ 0.56978628 -2.78544758 -2.78544758 ...,  1.22219287  1.03579098\n",
      " -1.57383535]\n",
      "[-0.06658281  1.41747828  0.51055206 ..., -0.47882201 -0.56126984\n",
      "  0.75789557]"
     ]
    },
    {
     "name": "stderr",
     "output_type": "stream",
     "text": [
      "C:\\Users\\howfungirl\\Anaconda3\\lib\\site-packages\\sklearn\\preprocessing\\data.py:646: DeprecationWarning: Passing 1d arrays as data is deprecated in 0.17 and will raise ValueError in 0.19. Reshape your data either using X.reshape(-1, 1) if your data has a single feature or X.reshape(1, -1) if it contains a single sample.\n",
      "  warnings.warn(DEPRECATION_MSG_1D, DeprecationWarning)\n",
      "C:\\Users\\howfungirl\\Anaconda3\\lib\\site-packages\\sklearn\\preprocessing\\data.py:583: DeprecationWarning: Passing 1d arrays as data is deprecated in 0.17 and will raise ValueError in 0.19. Reshape your data either using X.reshape(-1, 1) if your data has a single feature or X.reshape(1, -1) if it contains a single sample.\n",
      "  warnings.warn(DEPRECATION_MSG_1D, DeprecationWarning)\n"
     ]
    },
    {
     "name": "stdout",
     "output_type": "stream",
     "text": [
      "\n",
      "[-0.19777243 -0.75618119 -0.51686315 ..., -0.19777243 -0.59663583\n",
      "  0.28086365]"
     ]
    },
    {
     "name": "stderr",
     "output_type": "stream",
     "text": [
      "C:\\Users\\howfungirl\\Anaconda3\\lib\\site-packages\\sklearn\\preprocessing\\data.py:646: DeprecationWarning: Passing 1d arrays as data is deprecated in 0.17 and will raise ValueError in 0.19. Reshape your data either using X.reshape(-1, 1) if your data has a single feature or X.reshape(1, -1) if it contains a single sample.\n",
      "  warnings.warn(DEPRECATION_MSG_1D, DeprecationWarning)\n",
      "C:\\Users\\howfungirl\\Anaconda3\\lib\\site-packages\\sklearn\\preprocessing\\data.py:583: DeprecationWarning: Passing 1d arrays as data is deprecated in 0.17 and will raise ValueError in 0.19. Reshape your data either using X.reshape(-1, 1) if your data has a single feature or X.reshape(1, -1) if it contains a single sample.\n",
      "  warnings.warn(DEPRECATION_MSG_1D, DeprecationWarning)\n"
     ]
    },
    {
     "name": "stdout",
     "output_type": "stream",
     "text": [
      "\n",
      "[-0.33682138 -2.02410698 -1.72280598 ..., -0.63812238 -0.27656118\n",
      " -0.27656118]\n"
     ]
    },
    {
     "name": "stderr",
     "output_type": "stream",
     "text": [
      "C:\\Users\\howfungirl\\Anaconda3\\lib\\site-packages\\sklearn\\preprocessing\\data.py:646: DeprecationWarning: Passing 1d arrays as data is deprecated in 0.17 and will raise ValueError in 0.19. Reshape your data either using X.reshape(-1, 1) if your data has a single feature or X.reshape(1, -1) if it contains a single sample.\n",
      "  warnings.warn(DEPRECATION_MSG_1D, DeprecationWarning)\n"
     ]
    }
   ],
   "source": [
    "import os, sys\n",
    "import os.path\n",
    "     \n",
    "from PIL import Image\n",
    "import image_patch\n",
    "from sklearn import preprocessing\n",
    "\n",
    "#pwd = os.abspath(os.pardir);\n",
    "pwd = os.pardir;\n",
    "scriptDir = r\"%s\\curetgrey\" %pwd;   \n",
    "filelist = []\n",
    "pitch_size = 3\n",
    "test_size = 4\n",
    "\n",
    "#im = Image.open(r\"C:\\Users\\howfungirl\\ML_Project\\curetgrey\\sample01\\01-002.png\")\n",
    "#im.show();\n",
    "\n",
    "\n",
    "\n",
    "scaler = preprocessing.StandardScaler()\n",
    "\n",
    "save_path = r\"%s\\patch_database_double\" %pwd;\n",
    "#print '%(language)s has %(number)03d quote types' %  (\"language\": \"Python\", \"number\": 2)\n",
    "#print 'Formatted String : {0:05d}'.format(12)\n",
    "for i in range(1,62):  \n",
    "    count = 0\n",
    "    sample_file = r\"%s\\sample%02d\" % (scriptDir , i);\n",
    "    for file in os.listdir(sample_file):\n",
    "        if (file.endswith(\".png\") and count < test_size):\n",
    "            name_of_file = 'sample%02d_%s_%dx%d' % (i , file.strip(\".png\").replace(file[:3], '') , pitch_size , pitch_size) \n",
    "            completeName = os.path.join(save_path, name_of_file)      \n",
    "            f = open(completeName, 'wb+')\n",
    "            final = sample_file+\"\\\\\"+file;\n",
    "\n",
    "            x = image_patch.ImagePatchProcessing(final , pitch_size)\n",
    "            x_norm = scaler.fit_transform(x)\n",
    "            filelist.append(final);\n",
    "            count += 1\n",
    "            \n",
    "#            print(x_norm)\n",
    "                  \n",
    "            tmp = bytes(x_norm);\n",
    "            f.write(tmp);\n",
    "            \n",
    "    f.close()"
   ]
  },
  {
   "cell_type": "code",
   "execution_count": 5,
   "metadata": {
    "collapsed": false
   },
   "outputs": [
    {
     "name": "stdout",
     "output_type": "stream",
     "text": [
      "(1.990386614198425e+29,)\n",
      "(1.767446517944336,)\n",
      "(-0.1223241463303566,)\n",
      "(-2.0981807708740234,)\n",
      "(-0.1223241463303566,)\n",
      "(-2.0981807708740234,)\n",
      "(-1.1449949631111067e-28,)\n",
      "(1.8794738054275513,)\n",
      "(-6.3106812044453704e+35,)\n",
      "(-1.946729302406311,)\n"
     ]
    }
   ],
   "source": [
    "import struct\n",
    "import image_norm_test\n",
    "\n",
    "read_file = []\n",
    "read_file = image_norm_test.read(1, 2, 3)\n",
    "for i in range(0,10):\n",
    "    print(read_file[i])\n"
   ]
  },
  {
   "cell_type": "code",
   "execution_count": null,
   "metadata": {
    "collapsed": true
   },
   "outputs": [],
   "source": []
  }
 ],
 "metadata": {
  "kernelspec": {
   "display_name": "Python 3",
   "language": "python",
   "name": "python3"
  },
  "language_info": {
   "codemirror_mode": {
    "name": "ipython",
    "version": 3
   },
   "file_extension": ".py",
   "mimetype": "text/x-python",
   "name": "python",
   "nbconvert_exporter": "python",
   "pygments_lexer": "ipython3",
   "version": "3.4.3"
  }
 },
 "nbformat": 4,
 "nbformat_minor": 0
}
